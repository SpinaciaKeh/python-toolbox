{
 "cells": [
  {
   "cell_type": "code",
   "execution_count": 1,
   "metadata": {
    "collapsed": false,
    "ExecuteTime": {
     "end_time": "2023-07-11T16:36:07.737833400Z",
     "start_time": "2023-07-11T16:36:06.576629100Z"
    }
   },
   "outputs": [
    {
     "name": "stdout",
     "output_type": "stream",
     "text": [
      "Matrix([[x/(r*tan(alpha/2)), y/tan(alpha/2), A*z + B, z]])\n"
     ]
    }
   ],
   "source": [
    "import numpy as np\n",
    "from sympy import *\n",
    "\n",
    "x = Symbol('x')\n",
    "y = Symbol('y')\n",
    "z = Symbol('z')\n",
    "\n",
    "a = Symbol('alpha')\n",
    "r = Symbol('r')\n",
    "A = Symbol('A')\n",
    "B = Symbol('B')\n",
    "\n",
    "viewSpacePoint = Matrix([x, y, z, 1]).T\n",
    "projMat = Matrix([\n",
    "    [1 / (r * tan(a / 2)), 0, 0, 0],\n",
    "    [0, 1 / tan(a / 2), 0, 0],\n",
    "    [0, 0, A, 1],\n",
    "    [0, 0, B, 0]\n",
    "])\n",
    "\n",
    "projSpacePoint = viewSpacePoint * projMat # 投影变换 -> 齐次剪裁空间\n",
    "print(projSpacePoint)"
   ]
  },
  {
   "cell_type": "code",
   "execution_count": 2,
   "metadata": {
    "ExecuteTime": {
     "end_time": "2023-07-11T16:36:17.351707900Z",
     "start_time": "2023-07-11T16:36:13.937340400Z"
    }
   },
   "outputs": [
    {
     "name": "stdout",
     "output_type": "stream",
     "text": [
      "100px\t 10.53vh\t 5.68vw\t 6.25rem\t\n",
      "1px\t 0.11vh\t 0.06vw\t 0.06rem\t\n",
      "2px\t 0.21vh\t 0.11vw\t 0.12rem\t\n",
      "3px\t 0.32vh\t 0.17vw\t 0.19rem\t\n",
      "4px\t 0.42vh\t 0.23vw\t 0.25rem\t\n",
      "5px\t 0.53vh\t 0.28vw\t 0.31rem\t\n",
      "6px\t 0.63vh\t 0.34vw\t 0.38rem\t\n",
      "7px\t 0.74vh\t 0.4vw\t 0.44rem\t\n",
      "8px\t 0.84vh\t 0.45vw\t 0.5rem\t\n",
      "9px\t 0.95vh\t 0.51vw\t 0.56rem\t\n"
     ]
    }
   ],
   "source": [
    "# vh vw rem 转换\n",
    "a = input()\n",
    "print(str(int(a)) + 'px\\t', str(round(int(a) / float(9.5), 2)) + 'vh\\t', str(round(int(a) / float(17.62), 2)) + 'vw\\t', str(round(int(a) / int(16), 2)) + 'rem\\t')\n",
    "i = 1\n",
    "while i < 10:\n",
    "    vh = round(i / float(9.5), 2)\n",
    "    vw = round(i / float(17.62), 2)\n",
    "    rem = round(i / int(16), 2)\n",
    "    print(str(i) + 'px\\t', str(vh) + 'vh\\t', str(vw) + 'vw\\t', str(rem) + 'rem\\t')\n",
    "    i = i + 1"
   ]
  },
  {
   "cell_type": "code",
   "execution_count": 15,
   "metadata": {
    "ExecuteTime": {
     "end_time": "2023-07-11T10:19:45.799356700Z",
     "start_time": "2023-07-11T10:19:45.794432Z"
    },
    "collapsed": false
   },
   "outputs": [],
   "source": [
    "# point: (lat, lng)\n",
    "point1 = (20.10, 137.81)\n",
    "point2 = (12.47, 112.00)"
   ]
  },
  {
   "cell_type": "code",
   "execution_count": 16,
   "metadata": {
    "ExecuteTime": {
     "end_time": "2023-07-11T10:19:47.792443Z",
     "start_time": "2023-07-11T10:19:47.767904200Z"
    }
   },
   "outputs": [
    {
     "name": "stdout",
     "output_type": "stream",
     "text": [
      "2878.2419345610597\n"
     ]
    }
   ],
   "source": [
    "# 已知经纬度 计算两点之间的距离\n",
    "import math\n",
    "\n",
    "# point: (lat, lng)\n",
    "def geo_distance(p1, p2):  #地理距离\n",
    "    \"\"\"\n",
    "    Calculate the great circle distance between two points\n",
    "    on the earth (specified in decimal degrees)\n",
    "    \"\"\"\n",
    "    lon1, lat1, lon2, lat2 = map(math.radians, map(float, [p1[1], p1[0], p2[1], p2[0]]))  #根据提供的函数对指定序列做映，radians:将角度转换为弧度。\n",
    "    dlon = lon2 - lon1\n",
    "    dlat = lat2 - lat1\n",
    "    a = math.sin(dlat/2)**2 + math.cos(lat1) * math.cos(lat2) * math.sin(dlon/2)**2\n",
    "    c = 2 * math.asin(math.sqrt(a))\n",
    "    r = 6371\n",
    "    return c * r\n",
    "\n",
    "print(geo_distance(point1, point2))"
   ]
  },
  {
   "cell_type": "code",
   "execution_count": 17,
   "metadata": {
    "ExecuteTime": {
     "end_time": "2023-07-11T10:19:51.460121700Z",
     "start_time": "2023-07-11T10:19:50.371188800Z"
    }
   },
   "outputs": [
    {
     "name": "stdout",
     "output_type": "stream",
     "text": [
      "2878.245910158144\n"
     ]
    }
   ],
   "source": [
    "# 已知经纬度 计算两点之间的距离\n",
    "from haversine import haversine\n",
    "\n",
    "# point: (lat, lng)\n",
    "dis = haversine(point1, point2)\n",
    "print(dis)"
   ]
  },
  {
   "cell_type": "code",
   "execution_count": 22,
   "metadata": {
    "ExecuteTime": {
     "end_time": "2023-07-11T13:34:02.239959200Z",
     "start_time": "2023-07-11T13:34:02.218200100Z"
    },
    "collapsed": false
   },
   "outputs": [],
   "source": [
    "# coordinateList: Array<Coordinate>\n",
    "coordinatesList = [ [ 121.038443912000048, 27.952323731000035 ], [ 121.03541412200002, 27.955774222000059 ], [ 121.03452182400008, 27.958022812000024 ], [ 121.0354855060001, 27.96273414500007 ], [ 121.036192001000018, 27.964513815000032 ], [ 121.037448561000019, 27.966369962000044 ], [ 121.040613244000042, 27.968249736000075 ], [ 121.0438552600001, 27.969789247000051 ], [ 121.048952065000094, 27.972144913000079 ], [ 121.051352941000118, 27.973645996000073 ], [ 121.05707286300003, 27.977222919000042 ], [ 121.05750622700009, 27.977451944000052 ], [ 121.058075833000089, 27.976933255000063 ] ]"
   ]
  },
  {
   "cell_type": "code",
   "execution_count": 23,
   "metadata": {
    "ExecuteTime": {
     "end_time": "2023-07-11T13:34:04.736562700Z",
     "start_time": "2023-07-11T13:34:04.714721800Z"
    },
    "collapsed": false
   },
   "outputs": [
    {
     "name": "stdout",
     "output_type": "stream",
     "text": [
      "121.04422571992315 27.96732128438467\n"
     ]
    }
   ],
   "source": [
    "# 根据geometry获取polygon的中心点（直接取平均值）\n",
    "x = 0\n",
    "y = 0\n",
    "count = 0\n",
    "for index in coordinatesList:\n",
    "    x += index[0]\n",
    "    y += index[1]\n",
    "    count += 1\n",
    "\n",
    "print(x/count, y/count)"
   ]
  },
  {
   "cell_type": "code",
   "execution_count": 25,
   "metadata": {
    "ExecuteTime": {
     "end_time": "2023-07-11T13:34:25.814956400Z",
     "start_time": "2023-07-11T13:34:25.799300100Z"
    },
    "collapsed": false
   },
   "outputs": [
    {
     "name": "stdout",
     "output_type": "stream",
     "text": [
      "121.0442251451327 27.967321565676293\n"
     ]
    }
   ],
   "source": [
    "# 根据geometry获取polygon的中心点（复杂计算）\n",
    "import math\n",
    "\n",
    "x = 0\n",
    "y = 0\n",
    "z = 0\n",
    "count = 0\n",
    "\n",
    "for coord in coordinatesList:\n",
    "    lng = coord[0] * math.pi / 180\n",
    "    lat = coord[1] * math.pi / 180\n",
    "    x += math.cos(lat) * math.cos(lng)\n",
    "    y += math.cos(lat) * math.sin(lng)\n",
    "    z += math.sin(lat)\n",
    "    count += 1\n",
    "\n",
    "x = x / count\n",
    "y = y / count\n",
    "z = z / count\n",
    "lng2 = math.atan2(y, x)\n",
    "hyp = math.sqrt(x * x + y * y)\n",
    "lat2 = math.atan2(z, hyp)\n",
    "\n",
    "centerLng = lng2 * 180 / math.pi\n",
    "centerLat = lat2 * 180 / math.pi\n",
    "\n",
    "print(centerLng, centerLat)"
   ]
  }
 ],
 "metadata": {
  "kernelspec": {
   "display_name": "Python 3",
   "language": "python",
   "name": "python3"
  },
  "language_info": {
   "codemirror_mode": {
    "name": "ipython",
    "version": 3
   },
   "file_extension": ".py",
   "mimetype": "text/x-python",
   "name": "python",
   "nbconvert_exporter": "python",
   "pygments_lexer": "ipython3",
   "version": "3.11.3"
  }
 },
 "nbformat": 4,
 "nbformat_minor": 4
}
