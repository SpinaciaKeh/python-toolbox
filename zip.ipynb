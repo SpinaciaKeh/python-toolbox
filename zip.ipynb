{
 "cells": [
  {
   "cell_type": "markdown",
   "source": [
    "#### 将文件夹压缩到zip文件，并复制到剪贴板"
   ],
   "metadata": {
    "collapsed": false
   }
  },
  {
   "cell_type": "code",
   "execution_count": 15,
   "metadata": {
    "collapsed": true,
    "ExecuteTime": {
     "end_time": "2023-07-14T02:06:24.064240Z",
     "start_time": "2023-07-14T02:06:24.036269800Z"
    }
   },
   "outputs": [],
   "source": [
    "import win32clipboard\n",
    "from ctypes import *\n",
    "import zipfile\n",
    "import datetime\n",
    "import os\n",
    "\n",
    "class DROPFILES(Structure):\n",
    "    _fields_ = [\n",
    "        (\"pFiles\", c_uint),\n",
    "        (\"x\", c_long),\n",
    "        (\"y\", c_long),\n",
    "        (\"fNC\", c_int),\n",
    "        (\"fWide\", c_bool),\n",
    "    ]\n",
    "\n",
    "pDropFiles = DROPFILES()\n",
    "pDropFiles.pFiles = sizeof(DROPFILES)\n",
    "pDropFiles.fWide = True\n",
    "matedata = bytes(pDropFiles)\n",
    "\n",
    "def set_clipboard_files(paths):\n",
    "    files = (\"\\0\".join(paths)).replace(\"/\", \"\\\\\")\n",
    "    data = files.encode(\"U16\")[2:]+b\"\\0\\0\"\n",
    "    win32clipboard.OpenClipboard()\n",
    "    try:\n",
    "        win32clipboard.EmptyClipboard()\n",
    "        win32clipboard.SetClipboardData(\n",
    "            win32clipboard.CF_HDROP, matedata+data)\n",
    "    finally:\n",
    "        win32clipboard.CloseClipboard()\n",
    "\n",
    "# 复制指定文件到剪切板\n",
    "def set_clipboard_file(file):\n",
    "    set_clipboard_files([file])\n",
    "\n",
    "# 读取剪切板中的文件路径\n",
    "def read_clipboard_file_paths():\n",
    "    win32clipboard.OpenClipboard()\n",
    "    paths = None\n",
    "    try:\n",
    "        return win32clipboard.GetClipboardData(win32clipboard.CF_HDROP)\n",
    "    finally:\n",
    "        win32clipboard.CloseClipboard()\n",
    "\n",
    "# 压缩文件夹并将结果复制到剪切板\n",
    "# project_path: ../project\n",
    "def zip_folder_and_copy(project_path, more_info):\n",
    "    # 获取当前日期\n",
    "    today = datetime.datetime.now().strftime('%y%m%d')\n",
    "    time = datetime.datetime.now().strftime('%H%M')\n",
    "\n",
    "    if more_info == '':\n",
    "        suffix = today + '_' + time + '.zip'\n",
    "    else:\n",
    "        suffix = today + '_' + more_info + '.zip'\n",
    "\n",
    "    input_path = project_path + '/dist'\n",
    "    output_path = project_path + '/release/prod_' + suffix\n",
    "\n",
    "    # 压缩文件夹\n",
    "    zip = zipfile.ZipFile(output_path, 'w', zipfile.ZIP_DEFLATED)\n",
    "    for path, dir_names, filenames in os.walk(input_path):\n",
    "        fpath = path.replace(input_path, '')\n",
    "        for filename in filenames:\n",
    "            zip.write(os.path.join(path, filename), os.path.join(fpath, filename))\n",
    "    zip.close()\n",
    "\n",
    "    # 将压缩得到的zip文件复制到剪切板\n",
    "    set_clipboard_file(output_path)"
   ]
  },
  {
   "cell_type": "markdown",
   "source": [],
   "metadata": {
    "collapsed": false
   }
  }
 ],
 "metadata": {
  "kernelspec": {
   "display_name": "Python 3",
   "language": "python",
   "name": "python3"
  },
  "language_info": {
   "codemirror_mode": {
    "name": "ipython",
    "version": 2
   },
   "file_extension": ".py",
   "mimetype": "text/x-python",
   "name": "python",
   "nbconvert_exporter": "python",
   "pygments_lexer": "ipython2",
   "version": "2.7.6"
  }
 },
 "nbformat": 4,
 "nbformat_minor": 0
}
