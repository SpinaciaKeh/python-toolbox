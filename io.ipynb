{
 "cells": [
  {
   "cell_type": "code",
   "execution_count": 1,
   "outputs": [],
   "source": [
    "import os"
   ],
   "metadata": {
    "collapsed": false,
    "ExecuteTime": {
     "end_time": "2023-10-17T12:56:59.515438300Z",
     "start_time": "2023-10-17T12:56:59.510712800Z"
    }
   }
  },
  {
   "cell_type": "markdown",
   "source": [
    "#### 读取文件夹中的所有文件 - 同一层级"
   ],
   "metadata": {
    "collapsed": false
   }
  },
  {
   "cell_type": "code",
   "execution_count": 2,
   "metadata": {
    "collapsed": true,
    "ExecuteTime": {
     "end_time": "2023-10-17T12:57:00.710945Z",
     "start_time": "2023-10-17T12:57:00.705477900Z"
    }
   },
   "outputs": [],
   "source": [
    "def read_files(folder_path):\n",
    "    for file_name in os.listdir(folder_path):\n",
    "        input_path = os.path.join(folder_path, file_name)\n",
    "        print(input_path)"
   ]
  },
  {
   "cell_type": "code",
   "execution_count": 3,
   "outputs": [
    {
     "name": "stdout",
     "output_type": "stream",
     "text": [
      ".\\testData\\1-gray.png\n",
      ".\\testData\\1.png\n",
      ".\\testData\\2.png\n",
      ".\\testData\\3.png\n",
      ".\\testData\\4.png\n",
      ".\\testData\\A Bit Empty.ttf\n",
      ".\\testData\\other\n"
     ]
    }
   ],
   "source": [
    "read_files(r'.\\testData')"
   ],
   "metadata": {
    "collapsed": false,
    "ExecuteTime": {
     "end_time": "2023-10-17T12:57:10.918406100Z",
     "start_time": "2023-10-17T12:57:10.915670600Z"
    }
   }
  },
  {
   "cell_type": "markdown",
   "source": [
    "#### 读取文件夹中的所有文件 - 嵌套"
   ],
   "metadata": {
    "collapsed": false
   }
  },
  {
   "cell_type": "code",
   "execution_count": 4,
   "outputs": [],
   "source": [
    "def read_all_files(folder_path):\n",
    "    for (dir_path, dir_name, dir_file) in os.walk(folder_path):\n",
    "        for index in dir_file:\n",
    "            print(dir_path + '\\\\' + index)"
   ],
   "metadata": {
    "collapsed": false,
    "ExecuteTime": {
     "end_time": "2023-10-17T12:58:59.435756600Z",
     "start_time": "2023-10-17T12:58:59.428992Z"
    }
   }
  },
  {
   "cell_type": "code",
   "execution_count": 5,
   "outputs": [
    {
     "name": "stdout",
     "output_type": "stream",
     "text": [
      ".\\testData\\1-gray.png\n",
      ".\\testData\\1.png\n",
      ".\\testData\\2.png\n",
      ".\\testData\\3.png\n",
      ".\\testData\\4.png\n",
      ".\\testData\\A Bit Empty.ttf\n",
      ".\\testData\\other\\a.png\n",
      ".\\testData\\other\\b.png\n",
      ".\\testData\\other\\c.png\n"
     ]
    }
   ],
   "source": [
    "read_all_files(r'.\\testData')"
   ],
   "metadata": {
    "collapsed": false,
    "ExecuteTime": {
     "end_time": "2023-10-17T12:59:00.949597600Z",
     "start_time": "2023-10-17T12:59:00.948546300Z"
    }
   }
  }
 ],
 "metadata": {
  "kernelspec": {
   "display_name": "Python 3",
   "language": "python",
   "name": "python3"
  },
  "language_info": {
   "codemirror_mode": {
    "name": "ipython",
    "version": 2
   },
   "file_extension": ".py",
   "mimetype": "text/x-python",
   "name": "python",
   "nbconvert_exporter": "python",
   "pygments_lexer": "ipython2",
   "version": "2.7.6"
  }
 },
 "nbformat": 4,
 "nbformat_minor": 0
}
